{
 "cells": [
  {
   "cell_type": "markdown",
   "id": "1cfec89a-9354-4706-8bc5-29d15505fd2b",
   "metadata": {},
   "source": [
    "# Data Science Tools and Ecosystem"
   ]
  },
  {
   "cell_type": "markdown",
   "id": "bf0605fa-ea27-46e6-a27e-b9429c11bc5d",
   "metadata": {},
   "source": [
    "#### In this notebook, Data Science Tools and Ecosystem are summarized."
   ]
  },
  {
   "cell_type": "markdown",
   "id": "148a7b67-782e-40bf-be81-3535033bd006",
   "metadata": {},
   "source": [
    "#### **This notebook objectives are listed below:** \n",
    "- Listing the popular languages that Data Scientists use\n",
    "- Listing some libraries commonly used by Data Scientists\n",
    "- Listing the most used developping environments in Data Science\n",
    "- Some exemples for Python arithmetic code expressions"
   ]
  },
  {
   "cell_type": "markdown",
   "id": "5ed5b022-54fa-499c-a31b-e754b884424e",
   "metadata": {},
   "source": [
    "#### Some of the popular languages that Data Scientists use are:\n",
    "1. Python\n",
    "2. R\n",
    "3. Scala"
   ]
  },
  {
   "cell_type": "markdown",
   "id": "cfd43761-51d3-4425-8435-e5ac396b556a",
   "metadata": {},
   "source": [
    "#### Some of the commonly used libraries used by Data Scientists include:\n",
    "- NumPy\n",
    "- TensorFlow\n",
    "- SciPy\n",
    "- Spark"
   ]
  },
  {
   "cell_type": "markdown",
   "id": "431dc476-9ff0-4c95-ae54-466ab51b6c07",
   "metadata": {},
   "source": [
    "#### Single column table\n",
    "| **Data Science Tools** |\n",
    "| ---------------------- |\n",
    "|Jupyter|\n",
    "|RStudio|\n",
    "|Spyder|"
   ]
  },
  {
   "cell_type": "markdown",
   "id": "fa0caae3-42bb-4cdb-8504-bbbcb5dbda08",
   "metadata": {},
   "source": [
    "#### Below are a few examples of evaluating arithmetic expressions in Python"
   ]
  },
  {
   "cell_type": "code",
   "execution_count": 1,
   "id": "84ab9af3-1e46-4613-8881-ba14fb8e97bf",
   "metadata": {},
   "outputs": [
    {
     "data": {
      "text/plain": [
       "17"
      ]
     },
     "execution_count": 1,
     "metadata": {},
     "output_type": "execute_result"
    }
   ],
   "source": [
    "#This a simple arithmetic expression to mutiply then add integers\n",
    "(3*4)+5"
   ]
  },
  {
   "cell_type": "code",
   "execution_count": 2,
   "id": "20d3164c-b753-408e-a215-4cd2732d898e",
   "metadata": {},
   "outputs": [
    {
     "data": {
      "text/plain": [
       "3.3333333333333335"
      ]
     },
     "execution_count": 2,
     "metadata": {},
     "output_type": "execute_result"
    }
   ],
   "source": [
    "#This will convert 200 minutes to hours by diving by 60\n",
    "200/60"
   ]
  },
  {
   "cell_type": "markdown",
   "id": "d276937f-e655-478d-8729-41b6d868e060",
   "metadata": {},
   "source": [
    "## Author\n",
    "Houda CHAFNAJI"
   ]
  }
 ],
 "metadata": {
  "kernelspec": {
   "display_name": "Python 3 (ipykernel)",
   "language": "python",
   "name": "python3"
  },
  "language_info": {
   "codemirror_mode": {
    "name": "ipython",
    "version": 3
   },
   "file_extension": ".py",
   "mimetype": "text/x-python",
   "name": "python",
   "nbconvert_exporter": "python",
   "pygments_lexer": "ipython3",
   "version": "3.11.7"
  }
 },
 "nbformat": 4,
 "nbformat_minor": 5
}
